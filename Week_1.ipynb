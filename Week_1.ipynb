{
  "nbformat": 4,
  "nbformat_minor": 0,
  "metadata": {
    "colab": {
      "name": "Week 1.ipynb",
      "provenance": [],
      "collapsed_sections": [],
      "authorship_tag": "ABX9TyPZsyTpVMCK6EAgltMkw2ok",
      "include_colab_link": true
    },
    "kernelspec": {
      "name": "python3",
      "display_name": "Python 3"
    },
    "language_info": {
      "name": "python"
    }
  },
  "cells": [
    {
      "cell_type": "markdown",
      "metadata": {
        "id": "view-in-github",
        "colab_type": "text"
      },
      "source": [
        "<a href=\"https://colab.research.google.com/github/Shamvv/WE-24/blob/main/Week_1.ipynb\" target=\"_parent\"><img src=\"https://colab.research.google.com/assets/colab-badge.svg\" alt=\"Open In Colab\"/></a>"
      ]
    },
    {
      "cell_type": "code",
      "source": [
        "def next_palindrome(a: int) -> int:\n",
        "    a = int(a) + 1\n",
        "    while (str(a) != str(a)[::-1]):\n",
        "        a = int(a) + 1\n",
        "    return(a)\n",
        "next_palindrome(12345)"
      ],
      "metadata": {
        "colab": {
          "base_uri": "https://localhost:8080/"
        },
        "id": "FqhbBX7wtg6J",
        "outputId": "e257551e-42b3-41eb-d75f-bc9d2e7e020e"
      },
      "execution_count": 50,
      "outputs": [
        {
          "output_type": "execute_result",
          "data": {
            "text/plain": [
              "12421"
            ]
          },
          "metadata": {},
          "execution_count": 50
        }
      ]
    },
    {
      "cell_type": "code",
      "source": [
        "def pan_digital(a: int) -> bool:\n",
        "    return set(str(a)) == set(\"0123456789\")"
      ],
      "metadata": {
        "id": "ud5OD9Ac1418"
      },
      "execution_count": 54,
      "outputs": []
    },
    {
      "cell_type": "code",
      "source": [
        "print(pan_digital(98140723568910))\n",
        "print(pan_digital(90864523148909))\n",
        "print(pan_digital(112233445566778899))"
      ],
      "metadata": {
        "colab": {
          "base_uri": "https://localhost:8080/"
        },
        "id": "0dKA6Y5n6RBe",
        "outputId": "35b784f9-570b-4ffb-abe5-d68e08659d33"
      },
      "execution_count": 55,
      "outputs": [
        {
          "output_type": "stream",
          "name": "stdout",
          "text": [
            "True\n",
            "False\n",
            "False\n"
          ]
        }
      ]
    }
  ]
}